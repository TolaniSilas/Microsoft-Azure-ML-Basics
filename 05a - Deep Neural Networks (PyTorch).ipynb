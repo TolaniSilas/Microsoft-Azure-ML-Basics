{
 "cells": [
  {
   "cell_type": "markdown",
   "metadata": {},
   "source": [
    "# Deep Learning with PyTorch\n",
    "\n",
    "Classical machine learning relies on using statistics to determine relationships between features and labels, and can be very effective for creating predictive models. However, a massive growth in the availability of data coupled with advances in the computing technology required to process it has led to the emergence of new machine learning techniques that mimic the way the brain processes information in a structure called an artificial neural network.\n",
    "\n",
    "PyTorch is a framework for creating machine learning models, including deep neural networks (DNNs). In this example, we'll use PyTorch to create a simple neural network that classifies penguins into species based on the length and depth of their culmen (bill), their flipper length, and their body mass.\n",
    "\n",
    "> **Citation**: The penguins dataset used in the this exercise is a subset of data collected and made available by [Dr. Kristen\n",
    "Gorman](https://www.uaf.edu/cfos/people/faculty/detail/kristen-gorman.php)\n",
    "and the [Palmer Station, Antarctica LTER](https://pal.lternet.edu/), a\n",
    "member of the [Long Term Ecological Research\n",
    "Network](https://lternet.edu/).\n",
    "\n",
    "## Explore the Dataset\n",
    "\n",
    "Before we start using PyTorch to create a model, let's load the data we need from the Palmer Islands penguins dataset, which contains observations of three different species of penguin.\n",
    "\n",
    "> **Note**: In reality, you can solve the penguin classification problem easily using classical machine learning techniques without the need for a deep learning model; but it's a useful, easy to understand dataset with which to demonstrate the principles of neural networks in this notebook."
   ]
  },
  {
   "cell_type": "code",
   "execution_count": 5,
   "metadata": {},
   "outputs": [
    {
     "name": "stdout",
     "output_type": "stream",
     "text": [
      "(342, 5)\n"
     ]
    },
    {
     "data": {
      "text/html": [
       "<div>\n",
       "<style scoped>\n",
       "    .dataframe tbody tr th:only-of-type {\n",
       "        vertical-align: middle;\n",
       "    }\n",
       "\n",
       "    .dataframe tbody tr th {\n",
       "        vertical-align: top;\n",
       "    }\n",
       "\n",
       "    .dataframe thead th {\n",
       "        text-align: right;\n",
       "    }\n",
       "</style>\n",
       "<table border=\"1\" class=\"dataframe\">\n",
       "  <thead>\n",
       "    <tr style=\"text-align: right;\">\n",
       "      <th></th>\n",
       "      <th>CulmenLength</th>\n",
       "      <th>CulmenDepth</th>\n",
       "      <th>FlipperLength</th>\n",
       "      <th>BodyMass</th>\n",
       "      <th>Species</th>\n",
       "    </tr>\n",
       "  </thead>\n",
       "  <tbody>\n",
       "    <tr>\n",
       "      <th>495</th>\n",
       "      <td>48.7</td>\n",
       "      <td>14.1</td>\n",
       "      <td>21.0</td>\n",
       "      <td>44.5</td>\n",
       "      <td>1</td>\n",
       "    </tr>\n",
       "    <tr>\n",
       "      <th>301</th>\n",
       "      <td>49.5</td>\n",
       "      <td>19.0</td>\n",
       "      <td>20.0</td>\n",
       "      <td>38.0</td>\n",
       "      <td>2</td>\n",
       "    </tr>\n",
       "    <tr>\n",
       "      <th>96</th>\n",
       "      <td>40.3</td>\n",
       "      <td>18.5</td>\n",
       "      <td>19.6</td>\n",
       "      <td>43.5</td>\n",
       "      <td>0</td>\n",
       "    </tr>\n",
       "    <tr>\n",
       "      <th>227</th>\n",
       "      <td>47.5</td>\n",
       "      <td>14.2</td>\n",
       "      <td>20.9</td>\n",
       "      <td>46.0</td>\n",
       "      <td>1</td>\n",
       "    </tr>\n",
       "    <tr>\n",
       "      <th>554</th>\n",
       "      <td>46.2</td>\n",
       "      <td>14.9</td>\n",
       "      <td>22.1</td>\n",
       "      <td>53.0</td>\n",
       "      <td>1</td>\n",
       "    </tr>\n",
       "    <tr>\n",
       "      <th>556</th>\n",
       "      <td>54.3</td>\n",
       "      <td>15.7</td>\n",
       "      <td>23.1</td>\n",
       "      <td>56.5</td>\n",
       "      <td>1</td>\n",
       "    </tr>\n",
       "    <tr>\n",
       "      <th>326</th>\n",
       "      <td>45.7</td>\n",
       "      <td>17.3</td>\n",
       "      <td>19.3</td>\n",
       "      <td>36.0</td>\n",
       "      <td>2</td>\n",
       "    </tr>\n",
       "    <tr>\n",
       "      <th>664</th>\n",
       "      <td>51.5</td>\n",
       "      <td>18.7</td>\n",
       "      <td>18.7</td>\n",
       "      <td>32.5</td>\n",
       "      <td>2</td>\n",
       "    </tr>\n",
       "    <tr>\n",
       "      <th>633</th>\n",
       "      <td>58.0</td>\n",
       "      <td>17.8</td>\n",
       "      <td>18.1</td>\n",
       "      <td>37.0</td>\n",
       "      <td>2</td>\n",
       "    </tr>\n",
       "    <tr>\n",
       "      <th>638</th>\n",
       "      <td>43.2</td>\n",
       "      <td>16.6</td>\n",
       "      <td>18.7</td>\n",
       "      <td>29.0</td>\n",
       "      <td>2</td>\n",
       "    </tr>\n",
       "  </tbody>\n",
       "</table>\n",
       "</div>"
      ],
      "text/plain": [
       "     CulmenLength  CulmenDepth  FlipperLength  BodyMass  Species\n",
       "495          48.7         14.1           21.0      44.5        1\n",
       "301          49.5         19.0           20.0      38.0        2\n",
       "96           40.3         18.5           19.6      43.5        0\n",
       "227          47.5         14.2           20.9      46.0        1\n",
       "554          46.2         14.9           22.1      53.0        1\n",
       "556          54.3         15.7           23.1      56.5        1\n",
       "326          45.7         17.3           19.3      36.0        2\n",
       "664          51.5         18.7           18.7      32.5        2\n",
       "633          58.0         17.8           18.1      37.0        2\n",
       "638          43.2         16.6           18.7      29.0        2"
      ]
     },
     "execution_count": 5,
     "metadata": {},
     "output_type": "execute_result"
    }
   ],
   "source": [
    "import pandas as pd\n",
    "\n",
    "# load the training dataset (excluding rows with null values)\n",
    "penguins = pd.read_csv('data/penguins.csv').dropna()\n",
    "\n",
    "# Deep Learning models work best when features are on similar scales\n",
    "# In a real solution, we'd implement some custom normalization for each feature, but to keep things simple\n",
    "# we'll just rescale the FlipperLength and BodyMass so they're on a similar scale to the bill measurements\n",
    "penguins['FlipperLength'] = penguins['FlipperLength']/10\n",
    "penguins['BodyMass'] = penguins['BodyMass']/100\n",
    "print(penguins.shape)\n",
    "# The dataset is too small to be useful for deep learning\n",
    "# So we'll oversample it to increase its size\n",
    "for i in range(1, 2):\n",
    "    # penguins = penguins.append(penguins)\n",
    "    penguins = pd.concat([penguins, penguins], ignore_index=True)\n",
    "\n",
    "# Display a random sample of 10 observations\n",
    "sample = penguins.sample(10)\n",
    "sample"
   ]
  },
  {
   "cell_type": "markdown",
   "metadata": {},
   "source": [
    "The **Species** column is the label our model will predict. Each label value represents a class of penguin species, encoded as 0, 1, or 2. The following code shows the actual species to which these class labels corrrespond."
   ]
  },
  {
   "cell_type": "code",
   "execution_count": 6,
   "metadata": {
    "tags": []
   },
   "outputs": [
    {
     "name": "stdout",
     "output_type": "stream",
     "text": [
      "['CulmenLength' 'CulmenDepth' 'FlipperLength' 'BodyMass' 'Species'] SpeciesName\n"
     ]
    },
    {
     "name": "stderr",
     "output_type": "stream",
     "text": [
      "C:\\Users\\USER\\AppData\\Local\\Temp\\ipykernel_6136\\3285247502.py:4: FutureWarning: Series.__getitem__ treating keys as positions is deprecated. In a future version, integer keys will always be treated as labels (consistent with DataFrame behavior). To access a value by position, use `ser.iloc[pos]`\n",
      "  print('[',row[0], row[1], row[2],row[3], int(row[4]), ']',penguin_classes[int(row[-1])])\n"
     ]
    },
    {
     "name": "stdout",
     "output_type": "stream",
     "text": [
      "[ 46.4 17.8 19.1 37.0 2 ] Chinstrap\n",
      "[ 44.4 17.3 21.9 52.5 1 ] Gentoo\n",
      "[ 45.2 14.8 21.2 52.0 1 ] Gentoo\n",
      "[ 43.4 14.4 21.8 46.0 1 ] Gentoo\n",
      "[ 42.0 19.5 20.0 40.5 0 ] Adelie\n",
      "[ 48.8 16.2 22.2 60.0 1 ] Gentoo\n",
      "[ 52.2 18.8 19.7 34.5 2 ] Chinstrap\n",
      "[ 50.5 15.9 22.5 54.0 1 ] Gentoo\n",
      "[ 48.2 15.6 22.1 51.0 1 ] Gentoo\n",
      "[ 50.0 15.9 22.4 53.5 1 ] Gentoo\n"
     ]
    }
   ],
   "source": [
    "penguin_classes = ['Adelie', 'Gentoo', 'Chinstrap']\n",
    "print(sample.columns[0:5].values, 'SpeciesName')\n",
    "for index, row in penguins.sample(10).iterrows():\n",
    "    print('[',row[0], row[1], row[2],row[3], int(row[4]), ']',penguin_classes[int(row[-1])])"
   ]
  },
  {
   "cell_type": "markdown",
   "metadata": {},
   "source": [
    "As is common in a supervised learning problem, we'll split the dataset into a set of records with which to train the model, and a smaller set with which to validate the trained model."
   ]
  },
  {
   "cell_type": "code",
   "execution_count": 7,
   "metadata": {
    "tags": []
   },
   "outputs": [
    {
     "name": "stdout",
     "output_type": "stream",
     "text": [
      "Training Set: 478, Test Set: 206 \n",
      "\n",
      "Sample of features and labels:\n",
      "[35.6  17.5  19.1  31.75] 0 (Adelie)\n",
      "[46.5 14.4 21.7 49. ] 1 (Gentoo)\n",
      "[50.9  17.9  19.6  36.75] 2 (Chinstrap)\n",
      "[48.7 15.7 20.8 53.5] 1 (Gentoo)\n",
      "[42.5 16.7 18.7 33.5] 2 (Chinstrap)\n",
      "[41.6 18.  19.2 39.5] 0 (Adelie)\n",
      "[46.  21.5 19.4 42. ] 0 (Adelie)\n",
      "[35.3 18.9 18.7 38. ] 0 (Adelie)\n",
      "[46.4 15.6 22.1 50. ] 1 (Gentoo)\n",
      "[50.  16.3 23.  57. ] 1 (Gentoo)\n",
      "[45.4 14.6 21.1 48. ] 1 (Gentoo)\n",
      "[49.6 15.  21.6 47.5] 1 (Gentoo)\n",
      "[49.2 18.2 19.5 44. ] 2 (Chinstrap)\n",
      "[41.3 20.3 19.4 35.5] 0 (Adelie)\n",
      "[38.8  17.6  19.1  32.75] 0 (Adelie)\n",
      "[39.  17.5 18.6 35.5] 0 (Adelie)\n",
      "[37.8 17.1 18.6 33. ] 0 (Adelie)\n",
      "[37.5  18.5  19.9  44.75] 0 (Adelie)\n",
      "[46.5 14.5 21.3 44. ] 1 (Gentoo)\n",
      "[47.8 15.  21.5 56.5] 1 (Gentoo)\n",
      "[50.5 19.6 20.1 40.5] 2 (Chinstrap)\n",
      "[40.3 18.  19.5 32.5] 0 (Adelie)\n",
      "[45.1 14.5 21.5 50. ] 1 (Gentoo)\n",
      "[33.1 16.1 17.8 29. ] 0 (Adelie)\n"
     ]
    }
   ],
   "source": [
    "from sklearn.model_selection import train_test_split\n",
    "\n",
    "features = ['CulmenLength','CulmenDepth','FlipperLength','BodyMass']\n",
    "label = 'Species'\n",
    "   \n",
    "# Split data 70%-30% into training set and test set\n",
    "x_train, x_test, y_train, y_test = train_test_split(penguins[features].values,\n",
    "                                                    penguins[label].values,\n",
    "                                                    test_size=0.30,\n",
    "                                                    random_state=0)\n",
    "\n",
    "print ('Training Set: %d, Test Set: %d \\n' % (len(x_train), len(x_test)))\n",
    "print(\"Sample of features and labels:\")\n",
    "\n",
    "# Take a look at the first 25 training features and corresponding labels\n",
    "for n in range(0,24):\n",
    "    print(x_train[n], y_train[n], '(' + penguin_classes[y_train[n]] + ')')"
   ]
  },
  {
   "cell_type": "markdown",
   "metadata": {},
   "source": [
    "The *features* are the measurements for each penguin observation, and the *label* is a numeric value that indicates the species of penguin that the observation represents (Adelie, Gentoo, or Chinstrap).\n",
    "\n",
    "## Install and import the PyTorch libraries\n",
    "\n",
    "\n",
    "Since we plan to use PyTorch to create our penguin classifier, we'll need to run the following two cells to install and import the PyTorch libraries we intend to use. The specific installation of of PyTorch depends on your operating system and whether your computer has graphics processing units (GPUs) that can be used for high-performance processing via *cuda*. You can find detailed instructions at https://pytorch.org/get-started/locally/."
   ]
  },
  {
   "cell_type": "code",
   "execution_count": 8,
   "metadata": {},
   "outputs": [
    {
     "name": "stdout",
     "output_type": "stream",
     "text": [
      "Requirement already satisfied: torch in c:\\users\\user\\appdata\\local\\programs\\python\\python311\\lib\\site-packages (2.3.0)\n",
      "Collecting torchvision\n",
      "  Downloading torchvision-0.18.0-cp311-cp311-win_amd64.whl.metadata (6.6 kB)\n",
      "Collecting torchaudio\n",
      "  Downloading torchaudio-2.3.0-cp311-cp311-win_amd64.whl.metadata (6.4 kB)\n",
      "Requirement already satisfied: filelock in c:\\users\\user\\appdata\\local\\programs\\python\\python311\\lib\\site-packages (from torch) (3.14.0)\n",
      "Requirement already satisfied: typing-extensions>=4.8.0 in c:\\users\\user\\appdata\\local\\programs\\python\\python311\\lib\\site-packages (from torch) (4.9.0)\n",
      "Requirement already satisfied: sympy in c:\\users\\user\\appdata\\local\\programs\\python\\python311\\lib\\site-packages (from torch) (1.12)\n",
      "Requirement already satisfied: networkx in c:\\users\\user\\appdata\\local\\programs\\python\\python311\\lib\\site-packages (from torch) (3.2.1)\n",
      "Requirement already satisfied: jinja2 in c:\\users\\user\\appdata\\local\\programs\\python\\python311\\lib\\site-packages (from torch) (3.1.2)\n",
      "Requirement already satisfied: fsspec in c:\\users\\user\\appdata\\local\\programs\\python\\python311\\lib\\site-packages (from torch) (2024.5.0)\n",
      "Requirement already satisfied: mkl<=2021.4.0,>=2021.1.1 in c:\\users\\user\\appdata\\local\\programs\\python\\python311\\lib\\site-packages (from torch) (2021.4.0)\n",
      "Requirement already satisfied: numpy in c:\\users\\user\\appdata\\local\\programs\\python\\python311\\lib\\site-packages (from torchvision) (1.25.2)\n",
      "Requirement already satisfied: pillow!=8.3.*,>=5.3.0 in c:\\users\\user\\appdata\\local\\programs\\python\\python311\\lib\\site-packages (from torchvision) (10.0.0)\n",
      "Requirement already satisfied: intel-openmp==2021.* in c:\\users\\user\\appdata\\local\\programs\\python\\python311\\lib\\site-packages (from mkl<=2021.4.0,>=2021.1.1->torch) (2021.4.0)\n",
      "Requirement already satisfied: tbb==2021.* in c:\\users\\user\\appdata\\local\\programs\\python\\python311\\lib\\site-packages (from mkl<=2021.4.0,>=2021.1.1->torch) (2021.12.0)\n",
      "Requirement already satisfied: MarkupSafe>=2.0 in c:\\users\\user\\appdata\\local\\programs\\python\\python311\\lib\\site-packages (from jinja2->torch) (2.1.3)\n",
      "Requirement already satisfied: mpmath>=0.19 in c:\\users\\user\\appdata\\local\\programs\\python\\python311\\lib\\site-packages (from sympy->torch) (1.3.0)\n",
      "Downloading torchvision-0.18.0-cp311-cp311-win_amd64.whl (1.2 MB)\n",
      "   ---------------------------------------- 0.0/1.2 MB ? eta -:--:--\n",
      "   --- ------------------------------------ 0.1/1.2 MB ? eta -:--:--\n",
      "   ---- ----------------------------------- 0.1/1.2 MB 2.8 MB/s eta 0:00:01\n",
      "   ----- ---------------------------------- 0.2/1.2 MB 2.1 MB/s eta 0:00:01\n",
      "   ------ --------------------------------- 0.2/1.2 MB 1.3 MB/s eta 0:00:01\n",
      "   -------- ------------------------------- 0.3/1.2 MB 1.2 MB/s eta 0:00:01\n",
      "   ---------- ----------------------------- 0.3/1.2 MB 1.2 MB/s eta 0:00:01\n",
      "   ----------- ---------------------------- 0.3/1.2 MB 1.0 MB/s eta 0:00:01\n",
      "   ------------ --------------------------- 0.4/1.2 MB 1.1 MB/s eta 0:00:01\n",
      "   ------------- -------------------------- 0.4/1.2 MB 983.6 kB/s eta 0:00:01\n",
      "   --------------- ------------------------ 0.4/1.2 MB 1.0 MB/s eta 0:00:01\n",
      "   --------------- ------------------------ 0.5/1.2 MB 901.1 kB/s eta 0:00:01\n",
      "   ----------------- ---------------------- 0.5/1.2 MB 936.0 kB/s eta 0:00:01\n",
      "   --------------------- ------------------ 0.6/1.2 MB 1.0 MB/s eta 0:00:01\n",
      "   --------------------------- ------------ 0.8/1.2 MB 1.2 MB/s eta 0:00:01\n",
      "   ---------------------------- ----------- 0.8/1.2 MB 1.2 MB/s eta 0:00:01\n",
      "   -------------------------------- ------- 1.0/1.2 MB 1.3 MB/s eta 0:00:01\n",
      "   ---------------------------------------  1.2/1.2 MB 1.5 MB/s eta 0:00:01\n",
      "   ---------------------------------------  1.2/1.2 MB 1.5 MB/s eta 0:00:01\n",
      "   ---------------------------------------  1.2/1.2 MB 1.5 MB/s eta 0:00:01\n",
      "   ---------------------------------------  1.2/1.2 MB 1.5 MB/s eta 0:00:01\n",
      "   ---------------------------------------  1.2/1.2 MB 1.5 MB/s eta 0:00:01\n",
      "   ---------------------------------------  1.2/1.2 MB 1.5 MB/s eta 0:00:01\n",
      "   ---------------------------------------  1.2/1.2 MB 1.5 MB/s eta 0:00:01\n",
      "   ---------------------------------------  1.2/1.2 MB 1.5 MB/s eta 0:00:01\n",
      "   ---------------------------------------- 1.2/1.2 MB 1.0 MB/s eta 0:00:00\n",
      "Downloading torchaudio-2.3.0-cp311-cp311-win_amd64.whl (2.4 MB)\n",
      "   ---------------------------------------- 0.0/2.4 MB ? eta -:--:--\n",
      "   - -------------------------------------- 0.1/2.4 MB ? eta -:--:--\n",
      "   - -------------------------------------- 0.1/2.4 MB ? eta -:--:--\n",
      "   - -------------------------------------- 0.1/2.4 MB ? eta -:--:--\n",
      "   ----- ---------------------------------- 0.3/2.4 MB 1.9 MB/s eta 0:00:02\n",
      "   ----- ---------------------------------- 0.3/2.4 MB 1.9 MB/s eta 0:00:02\n",
      "   ----- ---------------------------------- 0.3/2.4 MB 1.9 MB/s eta 0:00:02\n",
      "   ----------- ---------------------------- 0.7/2.4 MB 2.1 MB/s eta 0:00:01\n",
      "   ------------- -------------------------- 0.8/2.4 MB 2.4 MB/s eta 0:00:01\n",
      "   ------------- -------------------------- 0.8/2.4 MB 2.4 MB/s eta 0:00:01\n",
      "   ------------- -------------------------- 0.8/2.4 MB 2.4 MB/s eta 0:00:01\n",
      "   --------------- ------------------------ 0.9/2.4 MB 1.9 MB/s eta 0:00:01\n",
      "   --------------- ------------------------ 0.9/2.4 MB 1.9 MB/s eta 0:00:01\n",
      "   --------------- ------------------------ 0.9/2.4 MB 1.9 MB/s eta 0:00:01\n",
      "   --------------- ------------------------ 0.9/2.4 MB 1.9 MB/s eta 0:00:01\n",
      "   --------------- ------------------------ 0.9/2.4 MB 1.9 MB/s eta 0:00:01\n",
      "   --------------- ------------------------ 0.9/2.4 MB 1.9 MB/s eta 0:00:01\n",
      "   --------------- ------------------------ 0.9/2.4 MB 1.9 MB/s eta 0:00:01\n",
      "   --------------- ------------------------ 0.9/2.4 MB 1.9 MB/s eta 0:00:01\n",
      "   --------------- ------------------------ 0.9/2.4 MB 1.9 MB/s eta 0:00:01\n",
      "   -------------------- ------------------- 1.2/2.4 MB 1.3 MB/s eta 0:00:01\n",
      "   ------------------------- -------------- 1.5/2.4 MB 1.7 MB/s eta 0:00:01\n",
      "   ------------------------------ --------- 1.8/2.4 MB 1.8 MB/s eta 0:00:01\n",
      "   ------------------------------ --------- 1.8/2.4 MB 1.8 MB/s eta 0:00:01\n",
      "   -------------------------------- ------- 1.9/2.4 MB 1.8 MB/s eta 0:00:01\n",
      "   -------------------------------- ------- 1.9/2.4 MB 1.8 MB/s eta 0:00:01\n",
      "   ---------------------------------------  2.4/2.4 MB 2.0 MB/s eta 0:00:01\n",
      "   ---------------------------------------  2.4/2.4 MB 2.0 MB/s eta 0:00:01\n",
      "   ---------------------------------------  2.4/2.4 MB 2.0 MB/s eta 0:00:01\n",
      "   ---------------------------------------  2.4/2.4 MB 2.0 MB/s eta 0:00:01\n",
      "   ---------------------------------------  2.4/2.4 MB 2.0 MB/s eta 0:00:01\n",
      "   ---------------------------------------  2.4/2.4 MB 2.0 MB/s eta 0:00:01\n",
      "   ---------------------------------------  2.4/2.4 MB 2.0 MB/s eta 0:00:01\n",
      "   ---------------------------------------  2.4/2.4 MB 2.0 MB/s eta 0:00:01\n",
      "   ---------------------------------------  2.4/2.4 MB 2.0 MB/s eta 0:00:01\n",
      "   ---------------------------------------  2.4/2.4 MB 2.0 MB/s eta 0:00:01\n",
      "   ---------------------------------------  2.4/2.4 MB 2.0 MB/s eta 0:00:01\n",
      "   ---------------------------------------  2.4/2.4 MB 2.0 MB/s eta 0:00:01\n",
      "   ---------------------------------------  2.4/2.4 MB 2.0 MB/s eta 0:00:01\n",
      "   ---------------------------------------  2.4/2.4 MB 2.0 MB/s eta 0:00:01\n",
      "   ---------------------------------------  2.4/2.4 MB 2.0 MB/s eta 0:00:01\n",
      "   ---------------------------------------  2.4/2.4 MB 2.0 MB/s eta 0:00:01\n",
      "   ---------------------------------------  2.4/2.4 MB 2.0 MB/s eta 0:00:01\n",
      "   ---------------------------------------- 2.4/2.4 MB 1.2 MB/s eta 0:00:00\n",
      "Installing collected packages: torchvision, torchaudio\n",
      "Successfully installed torchaudio-2.3.0 torchvision-0.18.0\n"
     ]
    }
   ],
   "source": [
    "\n",
    "! pip install torch torchvision torchaudio"
   ]
  },
  {
   "cell_type": "code",
   "execution_count": 9,
   "metadata": {
    "tags": []
   },
   "outputs": [
    {
     "name": "stdout",
     "output_type": "stream",
     "text": [
      "Libraries imported - ready to use PyTorch 2.3.0+cpu\n"
     ]
    }
   ],
   "source": [
    "import torch\n",
    "import torch.nn as nn\n",
    "import torch.utils.data as td\n",
    "\n",
    "# Set random seed for reproducability\n",
    "torch.manual_seed(0)\n",
    "\n",
    "print(\"Libraries imported - ready to use PyTorch\", torch.__version__)"
   ]
  },
  {
   "cell_type": "markdown",
   "metadata": {},
   "source": [
    "## Prepare the data for PyTorch\n",
    "\n",
    "PyTorch makes use of *data loaders* to load training and validation data in batches. We've already loaded the data into numpy arrays, but we need to wrap those in PyTorch datasets (in which the data is converted to PyTorch *tensor* objects) and create loaders to read batches from those datasets."
   ]
  },
  {
   "cell_type": "code",
   "execution_count": 10,
   "metadata": {
    "tags": []
   },
   "outputs": [
    {
     "name": "stdout",
     "output_type": "stream",
     "text": [
      "Ready to load data\n"
     ]
    }
   ],
   "source": [
    "# Create a dataset and loader for the training data and labels\n",
    "train_x = torch.Tensor(x_train).float()\n",
    "train_y = torch.Tensor(y_train).long()\n",
    "train_ds = td.TensorDataset(train_x,train_y)\n",
    "train_loader = td.DataLoader(train_ds, batch_size=20,\n",
    "    shuffle=False, num_workers=1)\n",
    "\n",
    "# Create a dataset and loader for the test data and labels\n",
    "test_x = torch.Tensor(x_test).float()\n",
    "test_y = torch.Tensor(y_test).long()\n",
    "test_ds = td.TensorDataset(test_x,test_y)\n",
    "test_loader = td.DataLoader(test_ds, batch_size=20,\n",
    "    shuffle=False, num_workers=1)\n",
    "print('Ready to load data')"
   ]
  },
  {
   "cell_type": "markdown",
   "metadata": {},
   "source": [
    "## Define a neural network\n",
    "\n",
    "Now we're ready to define our neural network. In this case, we'll create a network that consists of 3 fully-connected layers:\n",
    "* An input layer that receives an input value for each feature (in this case, the four penguin measurements) and applies a *ReLU* activation function.\n",
    "* A hidden layer that receives ten inputs and applies a *ReLU* activation function.\n",
    "* An output layer that generates a non-negative numeric output for each penguin species (which a loss function will translate into classification probabilities for each of the three possible penguin species)."
   ]
  },
  {
   "cell_type": "code",
   "execution_count": 13,
   "metadata": {
    "tags": []
   },
   "outputs": [
    {
     "name": "stdout",
     "output_type": "stream",
     "text": [
      "PenguinNet(\n",
      "  (fc1): Linear(in_features=4, out_features=10, bias=True)\n",
      "  (fc2): Linear(in_features=10, out_features=10, bias=True)\n",
      "  (fc3): Linear(in_features=10, out_features=3, bias=True)\n",
      ")\n"
     ]
    }
   ],
   "source": [
    "# Number of hidden layer nodes\n",
    "hl = 10\n",
    "\n",
    "# Define the neural network\n",
    "class PenguinNet(nn.Module):\n",
    "    def __init__(self):\n",
    "        super(PenguinNet, self).__init__()\n",
    "        self.fc1 = nn.Linear(len(features), hl)\n",
    "        self.fc2 = nn.Linear(hl, hl)\n",
    "        self.fc3 = nn.Linear(hl, len(penguin_classes))\n",
    "\n",
    "    def forward(self, x):\n",
    "        x = torch.relu(self.fc1(x))\n",
    "        x = torch.relu(self.fc2(x))\n",
    "        x = torch.relu(self.fc3(x))\n",
    "        return x\n",
    "\n",
    "# Create a model instance from the network\n",
    "model = PenguinNet()\n",
    "print(model)"
   ]
  },
  {
   "cell_type": "markdown",
   "metadata": {},
   "source": [
    "## Train the model\n",
    "\n",
    "To train the model, we need to repeatedly feed the training values forward through the network, use a loss function to calculate the loss, use an optimizer to backpropagate the weight and bias value adjustments, and validate the model using the test data we withheld.\n",
    "\n",
    "To do this, we'll create a function to train and optimize the model, and function to test the model. Then we'll call these functions iteratively over 50 epochs, logging the loss and accuracy statistics for each epoch."
   ]
  },
  {
   "cell_type": "code",
   "execution_count": 14,
   "metadata": {
    "tags": []
   },
   "outputs": [
    {
     "name": "stdout",
     "output_type": "stream",
     "text": [
      "Epoch: 1\n",
      "Training set: Average loss: 1.672196\n",
      "Validation set: Average loss: 0.932936, Accuracy: 145/206 (70%)\n",
      "\n",
      "Epoch: 2\n",
      "Training set: Average loss: 0.874722\n",
      "Validation set: Average loss: 0.828133, Accuracy: 156/206 (76%)\n",
      "\n",
      "Epoch: 3\n",
      "Training set: Average loss: 0.758872\n",
      "Validation set: Average loss: 0.765632, Accuracy: 163/206 (79%)\n",
      "\n",
      "Epoch: 4\n",
      "Training set: Average loss: 0.711731\n",
      "Validation set: Average loss: 0.721805, Accuracy: 163/206 (79%)\n",
      "\n",
      "Epoch: 5\n",
      "Training set: Average loss: 0.670471\n",
      "Validation set: Average loss: 0.680120, Accuracy: 163/206 (79%)\n",
      "\n",
      "Epoch: 6\n",
      "Training set: Average loss: 0.631361\n",
      "Validation set: Average loss: 0.640976, Accuracy: 163/206 (79%)\n",
      "\n",
      "Epoch: 7\n",
      "Training set: Average loss: 0.593869\n",
      "Validation set: Average loss: 0.603079, Accuracy: 163/206 (79%)\n",
      "\n",
      "Epoch: 8\n",
      "Training set: Average loss: 0.558162\n",
      "Validation set: Average loss: 0.566753, Accuracy: 163/206 (79%)\n",
      "\n",
      "Epoch: 9\n",
      "Training set: Average loss: 0.524192\n",
      "Validation set: Average loss: 0.532045, Accuracy: 166/206 (81%)\n",
      "\n",
      "Epoch: 10\n",
      "Training set: Average loss: 0.492067\n",
      "Validation set: Average loss: 0.499101, Accuracy: 170/206 (83%)\n",
      "\n",
      "Epoch: 11\n",
      "Training set: Average loss: 0.461753\n",
      "Validation set: Average loss: 0.467956, Accuracy: 173/206 (84%)\n",
      "\n",
      "Epoch: 12\n",
      "Training set: Average loss: 0.433314\n",
      "Validation set: Average loss: 0.438673, Accuracy: 175/206 (85%)\n",
      "\n",
      "Epoch: 13\n",
      "Training set: Average loss: 0.406704\n",
      "Validation set: Average loss: 0.411219, Accuracy: 181/206 (88%)\n",
      "\n",
      "Epoch: 14\n",
      "Training set: Average loss: 0.381865\n",
      "Validation set: Average loss: 0.385530, Accuracy: 187/206 (91%)\n",
      "\n",
      "Epoch: 15\n",
      "Training set: Average loss: 0.358695\n",
      "Validation set: Average loss: 0.361580, Accuracy: 192/206 (93%)\n",
      "\n",
      "Epoch: 16\n",
      "Training set: Average loss: 0.337108\n",
      "Validation set: Average loss: 0.339303, Accuracy: 195/206 (95%)\n",
      "\n",
      "Epoch: 17\n",
      "Training set: Average loss: 0.317028\n",
      "Validation set: Average loss: 0.318580, Accuracy: 196/206 (95%)\n",
      "\n",
      "Epoch: 18\n",
      "Training set: Average loss: 0.298386\n",
      "Validation set: Average loss: 0.299357, Accuracy: 198/206 (96%)\n",
      "\n",
      "Epoch: 19\n",
      "Training set: Average loss: 0.281069\n",
      "Validation set: Average loss: 0.281532, Accuracy: 198/206 (96%)\n",
      "\n",
      "Epoch: 20\n",
      "Training set: Average loss: 0.264996\n",
      "Validation set: Average loss: 0.265012, Accuracy: 198/206 (96%)\n",
      "\n",
      "Epoch: 21\n",
      "Training set: Average loss: 0.250098\n",
      "Validation set: Average loss: 0.249731, Accuracy: 198/206 (96%)\n",
      "\n",
      "Epoch: 22\n",
      "Training set: Average loss: 0.236295\n",
      "Validation set: Average loss: 0.235624, Accuracy: 198/206 (96%)\n",
      "\n",
      "Epoch: 23\n",
      "Training set: Average loss: 0.223534\n",
      "Validation set: Average loss: 0.222606, Accuracy: 199/206 (97%)\n",
      "\n",
      "Epoch: 24\n",
      "Training set: Average loss: 0.211730\n",
      "Validation set: Average loss: 0.210577, Accuracy: 199/206 (97%)\n",
      "\n",
      "Epoch: 25\n",
      "Training set: Average loss: 0.200824\n",
      "Validation set: Average loss: 0.199478, Accuracy: 199/206 (97%)\n",
      "\n",
      "Epoch: 26\n",
      "Training set: Average loss: 0.190733\n",
      "Validation set: Average loss: 0.189230, Accuracy: 199/206 (97%)\n",
      "\n",
      "Epoch: 27\n",
      "Training set: Average loss: 0.181402\n",
      "Validation set: Average loss: 0.179781, Accuracy: 199/206 (97%)\n",
      "\n",
      "Epoch: 28\n",
      "Training set: Average loss: 0.172768\n",
      "Validation set: Average loss: 0.171051, Accuracy: 199/206 (97%)\n",
      "\n",
      "Epoch: 29\n",
      "Training set: Average loss: 0.164779\n",
      "Validation set: Average loss: 0.162989, Accuracy: 199/206 (97%)\n",
      "\n",
      "Epoch: 30\n",
      "Training set: Average loss: 0.157388\n",
      "Validation set: Average loss: 0.155539, Accuracy: 199/206 (97%)\n",
      "\n",
      "Epoch: 31\n",
      "Training set: Average loss: 0.150549\n",
      "Validation set: Average loss: 0.148676, Accuracy: 200/206 (97%)\n",
      "\n",
      "Epoch: 32\n",
      "Training set: Average loss: 0.144214\n",
      "Validation set: Average loss: 0.142326, Accuracy: 200/206 (97%)\n",
      "\n",
      "Epoch: 33\n",
      "Training set: Average loss: 0.138345\n",
      "Validation set: Average loss: 0.136437, Accuracy: 200/206 (97%)\n",
      "\n",
      "Epoch: 34\n",
      "Training set: Average loss: 0.132901\n",
      "Validation set: Average loss: 0.130983, Accuracy: 200/206 (97%)\n",
      "\n",
      "Epoch: 35\n",
      "Training set: Average loss: 0.127846\n",
      "Validation set: Average loss: 0.125916, Accuracy: 200/206 (97%)\n",
      "\n",
      "Epoch: 36\n",
      "Training set: Average loss: 0.123143\n",
      "Validation set: Average loss: 0.121209, Accuracy: 200/206 (97%)\n",
      "\n",
      "Epoch: 37\n",
      "Training set: Average loss: 0.118762\n",
      "Validation set: Average loss: 0.116816, Accuracy: 200/206 (97%)\n",
      "\n",
      "Epoch: 38\n",
      "Training set: Average loss: 0.114672\n",
      "Validation set: Average loss: 0.112719, Accuracy: 200/206 (97%)\n",
      "\n",
      "Epoch: 39\n",
      "Training set: Average loss: 0.110852\n",
      "Validation set: Average loss: 0.108897, Accuracy: 200/206 (97%)\n",
      "\n",
      "Epoch: 40\n",
      "Training set: Average loss: 0.107282\n",
      "Validation set: Average loss: 0.105321, Accuracy: 200/206 (97%)\n",
      "\n",
      "Epoch: 41\n",
      "Training set: Average loss: 0.103940\n",
      "Validation set: Average loss: 0.101986, Accuracy: 200/206 (97%)\n",
      "\n",
      "Epoch: 42\n",
      "Training set: Average loss: 0.100807\n",
      "Validation set: Average loss: 0.098846, Accuracy: 200/206 (97%)\n",
      "\n",
      "Epoch: 43\n",
      "Training set: Average loss: 0.097876\n",
      "Validation set: Average loss: 0.095923, Accuracy: 200/206 (97%)\n",
      "\n",
      "Epoch: 44\n",
      "Training set: Average loss: 0.095120\n",
      "Validation set: Average loss: 0.093141, Accuracy: 200/206 (97%)\n",
      "\n",
      "Epoch: 45\n",
      "Training set: Average loss: 0.092519\n",
      "Validation set: Average loss: 0.090554, Accuracy: 200/206 (97%)\n",
      "\n",
      "Epoch: 46\n",
      "Training set: Average loss: 0.090078\n",
      "Validation set: Average loss: 0.088103, Accuracy: 200/206 (97%)\n",
      "\n",
      "Epoch: 47\n",
      "Training set: Average loss: 0.087773\n",
      "Validation set: Average loss: 0.085778, Accuracy: 200/206 (97%)\n",
      "\n",
      "Epoch: 48\n",
      "Training set: Average loss: 0.085600\n",
      "Validation set: Average loss: 0.083605, Accuracy: 200/206 (97%)\n",
      "\n",
      "Epoch: 49\n",
      "Training set: Average loss: 0.083549\n",
      "Validation set: Average loss: 0.081545, Accuracy: 200/206 (97%)\n",
      "\n",
      "Epoch: 50\n",
      "Training set: Average loss: 0.081609\n",
      "Validation set: Average loss: 0.079589, Accuracy: 200/206 (97%)\n",
      "\n"
     ]
    }
   ],
   "source": [
    "def train(model, data_loader, optimizer):\n",
    "    # Set the model to training mode\n",
    "    model.train()\n",
    "    train_loss = 0\n",
    "    \n",
    "    for batch, tensor in enumerate(data_loader):\n",
    "        data, target = tensor\n",
    "        # feedforward\n",
    "        optimizer.zero_grad()\n",
    "        out = model(data)\n",
    "        loss = loss_criteria(out, target)\n",
    "        train_loss += loss.item()\n",
    "\n",
    "        # backpropagate\n",
    "        loss.backward()\n",
    "        optimizer.step()\n",
    "\n",
    "    # Return average loss\n",
    "    avg_loss = train_loss / (batch+1)\n",
    "    print('Training set: Average loss: {:.6f}'.format(avg_loss))\n",
    "    return avg_loss\n",
    "           \n",
    "            \n",
    "def test(model, data_loader):\n",
    "    # Switch the model to evaluation mode (so we don't backpropagate)\n",
    "    model.eval()\n",
    "    test_loss = 0\n",
    "    correct = 0\n",
    "\n",
    "    with torch.no_grad():\n",
    "        batch_count = 0\n",
    "        for batch, tensor in enumerate(data_loader):\n",
    "            batch_count += 1\n",
    "            data, target = tensor\n",
    "            # Get the predictions\n",
    "            out = model(data)\n",
    "\n",
    "            # calculate the loss\n",
    "            test_loss += loss_criteria(out, target).item()\n",
    "\n",
    "            # Calculate the accuracy\n",
    "            _, predicted = torch.max(out.data, 1)\n",
    "            correct += torch.sum(target==predicted).item()\n",
    "            \n",
    "    # Calculate the average loss and total accuracy for this epoch\n",
    "    avg_loss = test_loss/batch_count\n",
    "    print('Validation set: Average loss: {:.6f}, Accuracy: {}/{} ({:.0f}%)\\n'.format(\n",
    "        avg_loss, correct, len(data_loader.dataset),\n",
    "        100. * correct / len(data_loader.dataset)))\n",
    "    \n",
    "    # return average loss for the epoch\n",
    "    return avg_loss\n",
    "\n",
    "# Specify the loss criteria (we'll use CrossEntropyLoss for multi-class classification)\n",
    "loss_criteria = nn.CrossEntropyLoss()\n",
    "\n",
    "# Use an \"Adam\" optimizer to adjust weights\n",
    "# (see https://pytorch.org/docs/stable/optim.html#algorithms for details of supported algorithms)\n",
    "learning_rate = 0.001\n",
    "optimizer = torch.optim.Adam(model.parameters(), lr=learning_rate)\n",
    "optimizer.zero_grad()\n",
    "\n",
    "# We'll track metrics for each epoch in these arrays\n",
    "epoch_nums = []\n",
    "training_loss = []\n",
    "validation_loss = []\n",
    "\n",
    "# Train over 50 epochs\n",
    "epochs = 50\n",
    "for epoch in range(1, epochs + 1):\n",
    "\n",
    "    # print the epoch number\n",
    "    print('Epoch: {}'.format(epoch))\n",
    "    \n",
    "    # Feed training data into the model to optimize the weights\n",
    "    train_loss = train(model, train_loader, optimizer)\n",
    "    \n",
    "    # Feed the test data into the model to check its performance\n",
    "    test_loss = test(model, test_loader)\n",
    "    \n",
    "    # Log the metrics for this epoch\n",
    "    epoch_nums.append(epoch)\n",
    "    training_loss.append(train_loss)\n",
    "    validation_loss.append(test_loss)\n"
   ]
  },
  {
   "cell_type": "markdown",
   "metadata": {},
   "source": [
    "While the training process is running, let's try to understand what's happening:\n",
    "\n",
    "1. In each *epoch*, the full set of training data is passed forward through the network. There are four features for each observation, and four corresponding nodes in the input layer - so the features for each observation are passed as a vector of four values to that layer. However, for efficiency, the feature vectors are grouped into batches; so actually a matrix of multiple feature vectors is fed in each time.\n",
    "2. The matrix of feature values is processed by a function that performs a weighted sum using initialized weights and bias values. The result of this function is then processed by the activation function for the input layer to constrain the values passed to the nodes in the next layer.\n",
    "3. The weighted sum and activation functions are repeated in each layer. Note that the functions operate on vectors and matrices rather than individual scalar values. In other words, the forward pass is essentially a series of nested linear algebra functions. This is the reason data scientists prefer to use computers with graphical processing units (GPUs), since these are optimized for matrix and vector calculations.\n",
    "4. In the final layer of the network, the output vectors contain a calculated value for each possible class (in this case, classes 0, 1, and 2). This vector is processed by a *loss function* that converts these values to probabilities and determines how far they are from the expected values based on the actual classes - so for example, suppose the output for a Gentoo penguin (class 1) observation is \\[0.3, 0.4, 0.3\\]. The correct prediction would be \\[0.0, 1.0, 0.0\\], so the variance between the predicted and actual values (how far away each predicted value is from what it should be) is \\[0.3, 0.6, 0.3\\]. This variance is aggregated for each batch and maintained as a running aggregate to calculate the overall level of error (*loss*) incurred by the training data for the epoch. \n",
    "5. At the end of each epoch, the validation data is passed through the network, and its loss and accuracy (proportion of correct predictions based on the highest probability value in the output vector) are also calculated. It's important to do this because it enables us to compare the performance of the model using data on which it was not trained, helping us determine if it will generalize well for new data or if it's *overfitted* to the training data.\n",
    "6. After all the data has been passed forward through the network, the output of the loss function for the *training* data (but <u>not</u> the *validation* data) is passed to the opimizer. The precise details of how the optimizer processes the loss vary depending on the specific optimization algorithm being used; but fundamentally you can think of the entire network, from the input layer to the loss function as being one big nested (*composite*) function. The optimizer applies some differential calculus to calculate *partial derivatives* for the function with respect to each weight and bias value that was used in the network. It's possible to do this efficiently for a nested function due to something called the *chain rule*, which enables you to determine the derivative of a composite function from the derivatives of its inner function and outer functions. You don't really need to worry about the details of the math here (the optimizer does it for you), but the end result is that the partial derivatives tell us about the slope (or *gradient*) of the loss function with respect to each weight and bias value - in other words, we can determine whether to increase or decrease the weight and bias values in order to decrease the loss.\n",
    "7. Having determined in which direction to adjust the weights and biases, the optimizer uses the *learning rate* to determine by how much to adjust them; and then works backwards through the network in a process called *backpropagation* to assign new values to the weights and biases in each layer.\n",
    "8. Now the next epoch repeats the whole training, validation, and backpropagation process starting with the revised weights and biases from the previous epoch - which hopefully will result in a lower level of loss.\n",
    "9. The process continues like this for 50 epochs.\n",
    "\n",
    "## Review training and validation loss\n",
    "\n",
    "After training is complete, we can examine the loss metrics we recorded while training and validating the model. We're really looking for two things:\n",
    "* The loss should reduce with each epoch, showing that the model is learning the right weights and biases to predict the correct labels.\n",
    "* The training loss and validation loss should follow a similar trend, showing that the model is not overfitting to the training data.\n",
    "\n",
    "Let's plot the loss metrics and see:"
   ]
  },
  {
   "cell_type": "code",
   "execution_count": 15,
   "metadata": {},
   "outputs": [
    {
     "data": {
      "image/png": "[encoded data removed]",
      "text/plain": [
       "<Figure size 640x480 with 1 Axes>"
      ]
     },
     "metadata": {},
     "output_type": "display_data"
    }
   ],
   "source": [
    "%matplotlib inline\n",
    "from matplotlib import pyplot as plt\n",
    "\n",
    "plt.plot(epoch_nums, training_loss)\n",
    "plt.plot(epoch_nums, validation_loss)\n",
    "plt.xlabel('epoch')\n",
    "plt.ylabel('loss')\n",
    "plt.legend(['training', 'validation'], loc='upper right')\n",
    "plt.show()"
   ]
  },
  {
   "cell_type": "markdown",
   "metadata": {},
   "source": [
    "## View the learned weights and biases\n",
    "\n",
    "The trained model consists of the final weights and biases that were determined by the optimizer during training. Based on our network model we should expect the following values for each layer:\n",
    "* Layer 1: There are four input values going to ten output nodes, so there should be 10 x 4 weights and 10 bias values.\n",
    "* Layer 2: There are ten input values going to ten output nodes, so there should be 10 x 10 weights and 10 bias values.\n",
    "* Layer 3: There are ten input values going to three output nodes, so there should be 3 x 10 weights and 3 bias values."
   ]
  },
  {
   "cell_type": "code",
   "execution_count": 18,
   "metadata": {
    "tags": []
   },
   "outputs": [
    {
     "name": "stdout",
     "output_type": "stream",
     "text": [
      "fc1.weight \n",
      " [[ 0.33859724  0.19581364 -0.21692847  0.17834856]\n",
      " [ 0.05745327 -0.11940867 -0.28185493 -0.2805583 ]\n",
      " [-0.3847404   0.33566517  0.3554656  -0.05690634]\n",
      " [-0.4334752   0.5586228   0.3787443   0.1384854 ]\n",
      " [-0.23606765  0.45952392  0.20447034 -0.3795727 ]\n",
      " [ 0.41033304  0.4235969  -0.10914125  0.39626935]\n",
      " [-0.2840945  -0.07835716  0.4245506   0.02065957]\n",
      " [-0.35360909 -0.16711646 -0.13572258 -0.0964644 ]\n",
      " [ 0.07981959  0.82566816  0.05463952 -0.33353204]\n",
      " [ 0.02562714  0.23974359  0.24802011 -0.45696926]]\n",
      "fc1.bias \n",
      " [-0.17919646 -0.37157226 -0.21334279  0.31585985 -0.3550651   0.27095035\n",
      "  0.42438906  0.03279418 -0.18052185 -0.17914248]\n",
      "fc2.weight \n",
      " [[ 0.06905279 -0.24106613  0.1571052  -0.28709358 -0.30398765 -0.30726606\n",
      "  -0.06415102  0.21264192 -0.29930294  0.26284447]\n",
      " [-0.08298619  0.09261808  0.0144209  -0.25027564  0.26225683  0.21827286\n",
      "   0.314329    0.15976211 -0.82868075  0.26391855]\n",
      " [ 0.01699549  0.1499604  -0.25356063 -0.09095548 -0.31049696 -0.12316835\n",
      "   0.06822017 -0.24828994  0.10080209  0.16975322]\n",
      " [ 0.03150797 -0.21158274 -0.24517761  0.27568978  0.13881075  0.30169457\n",
      "   0.18184015 -0.03561017  0.5025892  -0.31023932]\n",
      " [-0.27009055  0.14755437 -0.1791162   0.15213582 -0.22323534 -0.15663105\n",
      "  -0.2604733   0.16502053 -0.03222206  0.24336925]\n",
      " [ 0.18226688  0.17498228  0.01016864 -0.6467868  -0.06875794  0.01874609\n",
      "   0.15675712 -0.22154598  0.62813914 -0.03438348]\n",
      " [-0.277942   -0.1710975   0.2798039   0.7883791  -0.29291534  0.21609141\n",
      "   0.15848044  0.18718103  0.5092082  -0.17043106]\n",
      " [ 0.11787238  0.1294109  -0.0934432   0.03551782 -0.09098297  0.21728991\n",
      "  -0.08773886 -0.11788835 -0.4549613   0.11216399]\n",
      " [-0.15449992  0.02795401  0.1832653  -0.03146362  0.09623885 -0.07627001\n",
      "   0.11083773 -0.22907355 -0.18595102 -0.16051422]\n",
      " [ 0.3010993  -0.08509186 -0.00086343 -0.5921281   0.31568703  0.31519756\n",
      "  -0.23849475 -0.25635633 -0.567589   -0.00152507]]\n",
      "fc2.bias \n",
      " [-0.0806077  -0.14827952 -0.1134221   0.12582617 -0.16522607 -0.02674309\n",
      "  0.01494049 -0.15930687  0.04344511  0.18403092]\n",
      "fc3.weight \n",
      " [[-0.21379504 -0.164013   -0.1166146   0.33500713 -0.30002528 -0.428143\n",
      "   0.5394054  -0.19797643  0.06062824 -0.0902433 ]\n",
      " [-0.0666156   0.26504827  0.20094398 -0.02891026 -0.30788395 -0.37435073\n",
      "  -0.32783675  0.23767176 -0.20464164  0.40921324]\n",
      " [-0.0704332  -0.20463923  0.2477828   0.16133985  0.26819918  0.40535453\n",
      "  -0.1668652  -0.27447703 -0.02352831  0.24020524]]\n",
      "fc3.bias \n",
      " [-0.02563991 -0.31173813  0.04907591]\n"
     ]
    }
   ],
   "source": [
    "for param_tensor in model.state_dict():\n",
    "    print(param_tensor, \"\\n\", model.state_dict()[param_tensor].numpy())"
   ]
  },
  {
   "cell_type": "markdown",
   "metadata": {},
   "source": [
    "## Evaluate model performance\n",
    "\n",
    "So, is the model any good? The raw accuracy reported from the validation data would seem to indicate that it predicts pretty well; but it's typically useful to dig a little deeper and compare the predictions for each possible class. A common way to visualize the performance of a classification model is to create a *confusion matrix* that shows a crosstab of correct and incorrect predictions for each class."
   ]
  },
  {
   "cell_type": "code",
   "execution_count": 23,
   "metadata": {},
   "outputs": [
    {
     "data": {
      "image/png": "[encoded data removed]",
      "text/plain": [
       "<Figure size 640x480 with 2 Axes>"
      ]
     },
     "metadata": {},
     "output_type": "display_data"
    }
   ],
   "source": [
    "#Pytorch doesn't have a built-in confusion matrix metric, so we'll use SciKit-Learn\n",
    "from sklearn.metrics import confusion_matrix\n",
    "import numpy as np\n",
    "\n",
    "# Set the model to evaluate mode\n",
    "model.eval()\n",
    "\n",
    "# Get predictions for the test data\n",
    "x = torch.Tensor(x_test).float()\n",
    "_, predicted = torch.max(model(x).data, 1)\n",
    "\n",
    "# Plot the confusion matrix\n",
    "cm = confusion_matrix(y_test, predicted.numpy())\n",
    "plt.imshow(cm, interpolation=\"nearest\", cmap=plt.cm.Blues)\n",
    "plt.colorbar()\n",
    "tick_marks = np.arange(len(penguin_classes))\n",
    "plt.xticks(tick_marks, penguin_classes, rotation=45)\n",
    "plt.yticks(tick_marks, penguin_classes)\n",
    "plt.xlabel(\"Predicted Species\")\n",
    "plt.ylabel(\"Actual Species\")\n",
    "plt.show()"
   ]
  },
  {
   "cell_type": "markdown",
   "metadata": {},
   "source": [
    "The confusion matrix should show a strong diagonal line indicating that there are more correct than incorrect predictions for each class.\n",
    "\n",
    "## Save the trained model\n",
    "Now that we have a model we believe is reasonably accurate, we can save its trained weights for use later."
   ]
  },
  {
   "cell_type": "code",
   "execution_count": 26,
   "metadata": {},
   "outputs": [
    {
     "name": "stdout",
     "output_type": "stream",
     "text": [
      "model saved as models/penguin_classifier.pt\n"
     ]
    }
   ],
   "source": [
    "# Save the model weights\n",
    "model_file = 'models/penguin_classifier.pt'\n",
    "torch.save(model.state_dict(), model_file)\n",
    "del model\n",
    "print('model saved as', model_file)"
   ]
  },
  {
   "cell_type": "markdown",
   "metadata": {},
   "source": [
    "## Use the trained model\n",
    "\n",
    "When we have a new penguin observation, we can use the model to predict the species."
   ]
  },
  {
   "cell_type": "code",
   "execution_count": 27,
   "metadata": {
    "tags": []
   },
   "outputs": [
    {
     "name": "stdout",
     "output_type": "stream",
     "text": [
      "New sample: [[50.4, 15.3, 20, 50]]\n",
      "Prediction: Gentoo\n"
     ]
    }
   ],
   "source": [
    "# New penguin features\n",
    "x_new = [[50.4,15.3,20,50]]\n",
    "print ('New sample: {}'.format(x_new))\n",
    "\n",
    "# Create a new model class and load weights\n",
    "model = PenguinNet()\n",
    "model.load_state_dict(torch.load(model_file))\n",
    "\n",
    "# Set model to evaluation mode\n",
    "model.eval()\n",
    "\n",
    "# Get a prediction for the new data sample\n",
    "x = torch.Tensor(x_new).float()\n",
    "_, predicted = torch.max(model(x).data, 1)\n",
    "\n",
    "print('Prediction:',penguin_classes[predicted.item()])"
   ]
  },
  {
   "cell_type": "markdown",
   "metadata": {},
   "source": [
    "## Learn more\n",
    "\n",
    "This notebook was designed to help you understand the basic concepts and principles involved in deep neural networks, using a simple PyTorch example. To learn more about PyTorch, take a look at the [tutorials on the PyTorch web site](https://pytorch.org/tutorials/)."
   ]
  }
 ],
 "metadata": {
  "kernelspec": {
   "display_name": "Python 3",
   "language": "python",
   "name": "python3"
  },
  "language_info": {
   "codemirror_mode": {
    "name": "ipython",
    "version": 3
   },
   "file_extension": ".py",
   "mimetype": "text/x-python",
   "name": "python",
   "nbconvert_exporter": "python",
   "pygments_lexer": "ipython3",
   "version": "3.11.4"
  }
 },
 "nbformat": 4,
 "nbformat_minor": 2
}
